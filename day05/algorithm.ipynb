{
 "cells": [
  {
   "cell_type": "markdown",
   "id": "40831dda",
   "metadata": {},
   "source": [
    "###### Selection sort Algorithm :"
   ]
  },
  {
   "cell_type": "code",
   "execution_count": 1,
   "id": "4b51dd0b",
   "metadata": {},
   "outputs": [
    {
     "name": "stdout",
     "output_type": "stream",
     "text": [
      "[2, 4, 5, 7]\n"
     ]
    }
   ],
   "source": [
    "def sort(hh):\n",
    "  for i in range(len(hh)-1):\n",
    "    x = i\n",
    "    for j in range(i+1,len(hh)) :\n",
    "      if hh[x] > hh[j] :\n",
    "        x = j\n",
    "    hh[x],hh[i] = hh[i],hh[x]\n",
    "  return hh\n",
    "print(sort([7,5,4,2]))"
   ]
  },
  {
   "cell_type": "markdown",
   "id": "ccfee5e6",
   "metadata": {},
   "source": [
    "##### Insertion Sort Algorithm :"
   ]
  },
  {
   "cell_type": "code",
   "execution_count": 2,
   "id": "8768b548",
   "metadata": {},
   "outputs": [
    {
     "name": "stdout",
     "output_type": "stream",
     "text": [
      "[2, 4, 5, 7]\n"
     ]
    }
   ],
   "source": [
    "def so_rt(hh):\n",
    "  for i in range(len(hh)):\n",
    "    j = i\n",
    "    while(j>= 1):\n",
    "      if hh[j] < hh[j-1] :\n",
    "        hh[j],hh[j-1] = hh[j-1],hh[j]\n",
    "      else:\n",
    "        break\n",
    "      j -= 1\n",
    "  return hh\n",
    "print(so_rt([7,5,4,2]))"
   ]
  },
  {
   "cell_type": "code",
   "execution_count": null,
   "id": "a7541988",
   "metadata": {},
   "outputs": [],
   "source": []
  },
  {
   "cell_type": "code",
   "execution_count": null,
   "id": "e020f8ac",
   "metadata": {},
   "outputs": [],
   "source": []
  }
 ],
 "metadata": {
  "kernelspec": {
   "display_name": "Python 3 (ipykernel)",
   "language": "python",
   "name": "python3"
  },
  "language_info": {
   "codemirror_mode": {
    "name": "ipython",
    "version": 3
   },
   "file_extension": ".py",
   "mimetype": "text/x-python",
   "name": "python",
   "nbconvert_exporter": "python",
   "pygments_lexer": "ipython3",
   "version": "3.10.6"
  }
 },
 "nbformat": 4,
 "nbformat_minor": 5
}
