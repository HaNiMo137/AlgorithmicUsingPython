{
 "cells": [
  {
   "cell_type": "code",
   "execution_count": null,
   "id": "7390d5bc",
   "metadata": {},
   "outputs": [],
   "source": [
    "def hh(k,L):\n",
    "  x = 0\n",
    "  for i in range(len(L)):\n",
    "    if k[0] in L[i] : \n",
    "      x = 1\n",
    "      break\n",
    "  for i in range(len(L)):\n",
    "    if k[1] in L[i] : \n",
    "      x += 1\n",
    "      break\n",
    "  return x\n",
    "########\n",
    "def jojo(k,L):\n",
    "  r = [k]\n",
    "  for i in range(len(L)):\n",
    "    if k == L[i][0]:\n",
    "      r.append(L[i][1])\n",
    "  if len(r) > 1:\n",
    "    print(*r) \n",
    "#########\n",
    "n, e = [int(x) for x in input(\"\").split()]\n",
    "E = []\n",
    "W = []\n",
    "for i in range(e):\n",
    "  u, v, w = [int(x) for x in input(\"\").split()]\n",
    "  E.append([u,v])\n",
    "  W.append(w)\n",
    "cost = W[:]\n",
    "cost.sort()\n",
    "t = W.index(cost[0])\n",
    "L = [E[t]]\n",
    "for j in range(n-2):\n",
    "  for i in range(e):\n",
    "    x = hh(E[W.index(cost[i])],L)\n",
    "    if  x == 1 and bool(E[W.index(cost[i])] in L) == False:\n",
    "      L.append(E[W.index(cost[i])])\n",
    "      break\n",
    "for i in range(1,n+1):\n",
    "  jojo (i,L)"
   ]
  }
 ],
 "metadata": {
  "kernelspec": {
   "display_name": "Python 3 (ipykernel)",
   "language": "python",
   "name": "python3"
  },
  "language_info": {
   "codemirror_mode": {
    "name": "ipython",
    "version": 3
   },
   "file_extension": ".py",
   "mimetype": "text/x-python",
   "name": "python",
   "nbconvert_exporter": "python",
   "pygments_lexer": "ipython3",
   "version": "3.10.6"
  }
 },
 "nbformat": 4,
 "nbformat_minor": 5
}
