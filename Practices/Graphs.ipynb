{
 "cells": [
  {
   "cell_type": "markdown",
   "metadata": {},
   "source": [
    "## Exercise 1: Write a function that checks whether a given graph is connected or not.\n",
    "\n",
    "A graph $G=(S,A)$ is said to be connected if for any pair of vertices $(u,v)$ there is a path connecting $u$ and $v$. \n",
    "- Example 1: Oriented graph\n",
    "\n",
    "![orientedgraph](data/oriented-graph.png)\n",
    "\n",
    "    - The graph above is connected because we can find a path between each pair of vertices\n",
    "    - The pairs of vertices are: $(1,2)$, $(1,3)$, $(1,4)$, $(1,5)$, $(2,3)$, $(2,4)$, $(2,5)$, $(3,2)$, $(3,4)$, $(3,5)$, $(4,5)$.\n",
    "    \n",
    "- Example 2: Unoriented graph\n",
    "\n",
    "![unorientedgraph](data/unoriented-graph.png)\n",
    "\n",
    "    - The graph above is not connected because we cannot find a path between the vertices (5,6) and the other vertices. \n",
    "    - This graph is composed of two connected components."
   ]
  },
  {
   "cell_type": "code",
   "execution_count": 7,
   "metadata": {},
   "outputs": [
    {
     "name": "stdout",
     "output_type": "stream",
     "text": [
      "connected\n",
      "Not connected\n",
      "connected\n",
      "Not connected\n"
     ]
    }
   ],
   "source": [
    "def cont (gr) :\n",
    "    x = 1\n",
    "    for i in range (len(gr)):\n",
    "        for j in range(2):\n",
    "            if gr[i][j] > x:\n",
    "                x = gr[i][j]\n",
    "    L = []\n",
    "    L.append(gr[0][0])\n",
    "    for i in range(len(gr)):\n",
    "        for j in range(len(L)):\n",
    "            if L[j] in gr[i]:\n",
    "                if bool(gr[i][0] in L) == False :\n",
    "                    L.append(gr[i][0])\n",
    "                if bool(gr[i][1] in L) == False :\n",
    "                    L.append(gr[i][1])\n",
    "    if len(L) == x:\n",
    "        print(\"connected\")\n",
    "    else:\n",
    "        print(\"Not connected\")\n",
    "    \n",
    "        \n",
    "    \n",
    "\n",
    "c = [[1, 4], [2, 1], [3, 1], [3, 2], [4, 3]]     \n",
    "b = [[1, 2], [1, 4], [2, 3], [3, 4], [5, 6]]\n",
    "d = [[1,2], [1,3], [1,4], [1,5], [2,3], [2,4], [2,5], [3,2], [3,4], [3,5], [4,5]]\n",
    "e = [[1, 2], [1, 3], [2, 5], [3, 5], [4, 6],[4,7]]\n",
    "cont(c)\n",
    "cont(b)\n",
    "cont(d)\n",
    "cont(e)"
   ]
  },
  {
   "cell_type": "markdown",
   "metadata": {},
   "source": [
    "## Exercise 2: Given a binary tree, find the sum of all the leaves.\n",
    "\n",
    "![Tree1](data/tree1.png)\n",
    "\n",
    "- Example: \n",
    "\n",
    "```python\n",
    ">>> a = [40, [14, [5, [3, [], []], [2, [], []] ], [4, [], [] ]], [6, [1, [], []], [5, [], []]]]\n",
    ">>> print(somme_feuilles(a3))\n",
    "```"
   ]
  },
  {
   "cell_type": "code",
   "execution_count": 6,
   "metadata": {},
   "outputs": [
    {
     "name": "stdout",
     "output_type": "stream",
     "text": [
      "15\n",
      "21\n"
     ]
    }
   ],
   "source": [
    "def sum(a,x):\n",
    "    if len(a[1]) > 0:\n",
    "        t = x\n",
    "        x += sum(a[1],x)\n",
    "        x += sum(a[2],t)\n",
    "        return x\n",
    "    else:\n",
    "        return a[0]\n",
    "a = [40, [14, [5,[],[]],[4,[],[]]], [6, [1, [], []], [5, [], []]]]\n",
    "b = [40, [14, [1,[],[]],[7,[],[]]], [6, [3, [], []], [10, [], []]]]\n",
    "print(sum(a,0))\n",
    "print(sum(b,0))"
   ]
  },
  {
   "cell_type": "markdown",
   "metadata": {},
   "source": [
    "## Exercise 3: Given a binary tree, check whether all leaves are at the same level or not.\n",
    "\n",
    "![Tree2](data/tree2.png)\n",
    "\n",
    "- Expected output:\n",
    "\n",
    "```python\n",
    ">>> same_level(T1) \n",
    "False\n",
    ">>> same_level(T2)\n",
    "True\n",
    "```"
   ]
  },
  {
   "cell_type": "code",
   "execution_count": 5,
   "metadata": {},
   "outputs": [
    {
     "name": "stdout",
     "output_type": "stream",
     "text": [
      "True\n",
      "False\n"
     ]
    }
   ],
   "source": [
    "def lvl(a,x):\n",
    "    if len(a[1]) > 0:\n",
    "        x += 1\n",
    "        x1 = x\n",
    "        x2 = x\n",
    "        x1 += lvl(a[1],x)\n",
    "        x2 += lvl(a[2],x)\n",
    "        if x1 == x2:\n",
    "            t = 1\n",
    "        else:\n",
    "            t = 0\n",
    "        return t\n",
    "    else:\n",
    "        return 0\n",
    "def same(a):\n",
    "    if lvl(a,0) == 1:\n",
    "        print(True)\n",
    "    else:\n",
    "        print(False)\n",
    "T2 = [40, [14, [5,[],[]],[4,[],[]]], [6, [1, [], []], [5, [], []]]]\n",
    "T1 = [40, [14, [5, [3, [], []], [2, [], []] ], [4, [], [] ]], [6, [1, [], []], [5, [], []]]]\n",
    "same(T2)\n",
    "same(T1)"
   ]
  },
  {
   "cell_type": "code",
   "execution_count": null,
   "metadata": {},
   "outputs": [],
   "source": []
  }
 ],
 "metadata": {
  "kernelspec": {
   "display_name": "Python 3 (ipykernel)",
   "language": "python",
   "name": "python3"
  },
  "language_info": {
   "codemirror_mode": {
    "name": "ipython",
    "version": 3
   },
   "file_extension": ".py",
   "mimetype": "text/x-python",
   "name": "python",
   "nbconvert_exporter": "python",
   "pygments_lexer": "ipython3",
   "version": "3.10.6"
  }
 },
 "nbformat": 4,
 "nbformat_minor": 4
}
